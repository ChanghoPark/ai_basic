{
 "cells": [
  {
   "cell_type": "markdown",
   "metadata": {},
   "source": [
    "### 넘파이(NumPy) : 배열(ndarray, n dimension array)\n",
    "* 리스트(list) : Linked List구조(불연속), 동작 속도가 느리다, comma로 요소구별, 서로 다른 자료형 사용가능 \n",
    "* 배열(ndarray) : 연속된 메모리 구조, 동작 속도가 빠르다, comma를 사용하지 않고 공백으로 요소 구별,오직 한 가지 타입만 갖을 수 있다 \n",
    "\n",
    " https://scipy.org/"
   ]
  },
  {
   "cell_type": "code",
   "execution_count": 1,
   "metadata": {
    "scrolled": true
   },
   "outputs": [
    {
     "name": "stdout",
     "output_type": "stream",
     "text": [
      "[0, 1, 2, 3, 4, 5, 'hello']\n",
      "<class 'list'>\n",
      "[0 1 2 3 4 5]\n",
      "<class 'numpy.ndarray'>\n",
      "int32\n"
     ]
    }
   ],
   "source": [
    "import numpy as np\n",
    "# ! pip install numpy\n",
    "\n",
    "# list \n",
    "list1 = [0,1,2,3,4,5,'hello']\n",
    "print(list1)\n",
    "print(type(list1))\n",
    "\n",
    "a = np.array([0,1,2,3,4,5])\n",
    "print(a)\n",
    "print(type(a)) # ndarray\n",
    "print(a.dtype) # 요소의 자료형"
   ]
  },
  {
   "cell_type": "code",
   "execution_count": 2,
   "metadata": {},
   "outputs": [
    {
     "data": {
      "text/plain": [
       "dict_keys(['?', 0, 'byte', 'b', 1, 'ubyte', 'B', 2, 'short', 'h', 3, 'ushort', 'H', 4, 'i', 5, 'uint', 'I', 6, 'intp', 'p', 9, 'uintp', 'P', 10, 'long', 'l', 7, 'L', 8, 'longlong', 'q', 'ulonglong', 'Q', 'half', 'e', 23, 'f', 11, 'double', 'd', 12, 'longdouble', 'g', 13, 'cfloat', 'F', 14, 'cdouble', 'D', 15, 'clongdouble', 'G', 16, 'O', 17, 'S', 18, 'unicode', 'U', 19, 'void', 'V', 20, 'M', 21, 'm', 22, 'bool8', 'Bool', 'b1', 'int64', 'Int64', 'i8', 'uint64', 'Uint64', 'u8', 'float16', 'Float16', 'f2', 'float32', 'Float32', 'f4', 'float64', 'Float64', 'f8', 'complex64', 'Complex32', 'c8', 'complex128', 'Complex64', 'c16', 'object0', 'Object0', 'bytes0', 'Bytes0', 'str0', 'Str0', 'void0', 'Void0', 'datetime64', 'Datetime64', 'M8', 'timedelta64', 'Timedelta64', 'm8', 'int32', 'Int32', 'i4', 'uint32', 'UInt32', 'u4', 'UInt64', 'int16', 'Int16', 'i2', 'uint16', 'UInt16', 'u2', 'int8', 'Int8', 'i1', 'uint8', 'UInt8', 'u1', 'complex_', 'int0', 'uint0', 'single', 'csingle', 'singlecomplex', 'float_', 'intc', 'uintc', 'int_', 'longfloat', 'clongfloat', 'longcomplex', 'bool_', 'bytes_', 'string_', 'unicode_', 'object_', 'str_', 'int', 'float', 'complex', 'bool', 'object', 'str', 'bytes', 'a'])"
      ]
     },
     "execution_count": 2,
     "metadata": {},
     "output_type": "execute_result"
    }
   ],
   "source": [
    "# numpy 의 dtype 객체의 종류: 대소문자 모두 사용가능\n",
    "np.sctypeDict.keys()"
   ]
  },
  {
   "cell_type": "code",
   "execution_count": 3,
   "metadata": {},
   "outputs": [
    {
     "name": "stdout",
     "output_type": "stream",
     "text": [
      "[0. 1. 2. 3. 4. 5.]\n",
      "<class 'numpy.ndarray'>\n",
      "float64\n"
     ]
    }
   ],
   "source": [
    "# int 와 float  ---> float\n",
    "a = np.array([0,1,2.,3,4,5])\n",
    "print(a)\n",
    "print(type(a))\n",
    "print(a.dtype)  # float64"
   ]
  },
  {
   "cell_type": "code",
   "execution_count": 4,
   "metadata": {},
   "outputs": [
    {
     "name": "stdout",
     "output_type": "stream",
     "text": [
      "['0' '1' '2.0' '3' '4' '5' 'hello']\n",
      "<class 'numpy.ndarray'>\n",
      "<U32\n"
     ]
    }
   ],
   "source": [
    "# int 와 float 와 str ---> Unicode string\n",
    "a = np.array([0,1,2.,3,4,5,'hello'])\n",
    "print(a)\n",
    "print(type(a))\n",
    "print(a.dtype)   # <U32\n",
    "# <U32 ,  < : 리틀엔디언, U:유니코드  , 32:최대문자 32 byte\n",
    "\n",
    "# 유니코드 인코딩 방식\n",
    "# (1) EUC-KR,CP949(MS949) : 완성형, 한글 2 바이트, 영문은 1 바이트, Windows\n",
    "# (2) UTF-8 : 조합형, 한글 3 바이트, 영문은 1 바이트, Linux "
   ]
  },
  {
   "cell_type": "code",
   "execution_count": 5,
   "metadata": {
    "scrolled": true
   },
   "outputs": [
    {
     "name": "stdout",
     "output_type": "stream",
     "text": [
      "['1.234' '3.123' '4.4356' '5' '7'] <U6\n",
      "[1.234  3.123  4.4356 5.     7.    ] float32\n",
      "[1 3 4 5 7] int32\n"
     ]
    }
   ],
   "source": [
    "# 배열의 데이터 타입 변환 : astype()\n",
    "a1 = np.array(['1.234','3.123','4.4356','5','7'])\n",
    "print(a1,a1.dtype)       # <U6 : 리틀엔디언, 유니코드, 최대 문자 6 byte\n",
    "\n",
    "a2 = a1.astype('float32')\n",
    "print(a2,a2.dtype)\n",
    "\n",
    "a3 = a2.astype('int32')\n",
    "print(a3,a3.dtype)"
   ]
  },
  {
   "cell_type": "markdown",
   "metadata": {},
   "source": [
    "### 차원(dimension, Rank) 과 Shape\n",
    "* 차원(Dimension, Rank) : 1,2,3 차원 , n 차원, 첫 데이터까지의 대괄호의 갯수\n",
    "* Shape : 차원의 요소의 수, 튜플 형식\n",
    "#### 1차원 Shape : (x,)\n",
    "#### 2차원 Shape : (x,y)  , 행렬(matrix)\n",
    "#### 3차원 Shape : (x,y,z) , (면,행,열)\n",
    "...\n",
    "#### n차원 Shape : (x,y,z,....)"
   ]
  },
  {
   "cell_type": "code",
   "execution_count": 6,
   "metadata": {},
   "outputs": [
    {
     "name": "stdout",
     "output_type": "stream",
     "text": [
      "[ 0  1  2  3  4  5  6  7  8  9 10 11] <class 'numpy.ndarray'> int32\n",
      "(12,)\n",
      "<class 'tuple'>\n",
      "12\n",
      "[2 3 4 5 6 7 8 9] <class 'numpy.ndarray'>\n",
      "(8,)\n",
      "[ 0  2  4  6  8 10 12 14] <class 'numpy.ndarray'>\n",
      "(8,)\n"
     ]
    }
   ],
   "source": [
    "# 1차원의 배열의 Shape\n",
    "# np.arange(start,end+1,step))\n",
    "a = np.arange(12)\n",
    "print(a,type(a),a.dtype)\n",
    "print(a.shape)  # (12,)\n",
    "t = a.shape\n",
    "print(type(t))  # tuple\n",
    "print(a.shape[0])  # 12\n",
    "\n",
    "a2 = np.arange(2,10)\n",
    "print(a2,type(a2))\n",
    "print(a2.shape)  # (8,)\n",
    "\n",
    "a3 = np.arange(0,16,2)\n",
    "print(a3,type(a3))\n",
    "print(a3.shape)"
   ]
  },
  {
   "cell_type": "code",
   "execution_count": 7,
   "metadata": {},
   "outputs": [
    {
     "name": "stdout",
     "output_type": "stream",
     "text": [
      "[[0 1 2]\n",
      " [0 1 2]]\n",
      "(2, 3)\n",
      "2 3\n"
     ]
    }
   ],
   "source": [
    "# 2차원 배열의 Shape : 행(row,가로,수직,axis = 0) 과 열(column,세로,수평,axis =1)  ==> 필수 암기\n",
    "# m = np.array([np.arange(3),np.arange(3)])\n",
    "m = np.array([[0,1,2],\n",
    "              [0,1,2]])\n",
    "print(m)\n",
    "print(m.shape)\n",
    "print(m.shape[0],m.shape[1])             \n"
   ]
  },
  {
   "cell_type": "code",
   "execution_count": 8,
   "metadata": {},
   "outputs": [
    {
     "name": "stdout",
     "output_type": "stream",
     "text": [
      "[[[0 1 2]\n",
      "  [3 4 5]]\n",
      "\n",
      " [[0 1 2]\n",
      "  [3 4 5]]]\n",
      "(2, 2, 3)\n",
      "2 2 3\n"
     ]
    }
   ],
   "source": [
    "# 3차원 배열의 Shape : (면,행,열)\n",
    "m = np.array([[[0,1,2],\n",
    "               [3,4,5]],\n",
    "              [[0,1,2],\n",
    "               [3,4,5]]])\n",
    "print(m)\n",
    "print(m.shape)  # (2,2,3)\n",
    "print(m.shape[0],m.shape[1],m.shape[2])"
   ]
  },
  {
   "cell_type": "markdown",
   "metadata": {},
   "source": [
    "### 배열의 shape 바꾸기 : reshape() 함수"
   ]
  },
  {
   "cell_type": "code",
   "execution_count": 9,
   "metadata": {},
   "outputs": [
    {
     "name": "stdout",
     "output_type": "stream",
     "text": [
      "[ 0  1  2  3  4  5  6  7  8  9 10 11]\n",
      "(12,)\n",
      "[[ 0  1  2  3]\n",
      " [ 4  5  6  7]\n",
      " [ 8  9 10 11]]\n",
      "(3, 4)\n",
      "[[ 0  1  2]\n",
      " [ 3  4  5]\n",
      " [ 6  7  8]\n",
      " [ 9 10 11]]\n",
      "(4, 3)\n",
      "[[ 0  1  2  3  4  5]\n",
      " [ 6  7  8  9 10 11]]\n",
      "(2, 6)\n",
      "[[ 0]\n",
      " [ 1]\n",
      " [ 2]\n",
      " [ 3]\n",
      " [ 4]\n",
      " [ 5]\n",
      " [ 6]\n",
      " [ 7]\n",
      " [ 8]\n",
      " [ 9]\n",
      " [10]\n",
      " [11]]\n",
      "(12, 1)\n",
      "[[[ 0  1  2]\n",
      "  [ 3  4  5]]\n",
      "\n",
      " [[ 6  7  8]\n",
      "  [ 9 10 11]]]\n",
      "(2, 2, 3)\n",
      "[[[[ 0  1]]\n",
      "\n",
      "  [[ 2  3]]]\n",
      "\n",
      "\n",
      " [[[ 4  5]]\n",
      "\n",
      "  [[ 6  7]]]\n",
      "\n",
      "\n",
      " [[[ 8  9]]\n",
      "\n",
      "  [[10 11]]]]\n",
      "(3, 2, 1, 2)\n"
     ]
    }
   ],
   "source": [
    "m1 = np.arange(12)\n",
    "print(m1)\n",
    "print(m1.shape)\n",
    "\n",
    "m2 = m1.reshape(3,4)\n",
    "print(m2)\n",
    "print(m2.shape)\n",
    "\n",
    "m2 = m1.reshape(4,3)\n",
    "print(m2)\n",
    "print(m2.shape)\n",
    "\n",
    "m2 = m1.reshape(2,6)\n",
    "print(m2)\n",
    "print(m2.shape)\n",
    "\n",
    "m2 = m1.reshape(12,1)\n",
    "print(m2)\n",
    "print(m2.shape)\n",
    "\n",
    "m3 = m1.reshape(2,2,3)\n",
    "print(m3)\n",
    "print(m3.shape)\n",
    "\n",
    "m4 = m1.reshape(3,2,1,2)\n",
    "print(m4)\n",
    "print(m4.shape)"
   ]
  },
  {
   "cell_type": "code",
   "execution_count": 10,
   "metadata": {},
   "outputs": [
    {
     "name": "stdout",
     "output_type": "stream",
     "text": [
      "[ 0  1  2  3  4  5  6  7  8  9 10 11] (12,)\n",
      "[[ 0  1  2  3  4  5]\n",
      " [ 6  7  8  9 10 11]] (2, 6)\n",
      "[[ 0  1  2]\n",
      " [ 3  4  5]\n",
      " [ 6  7  8]\n",
      " [ 9 10 11]] (4, 3)\n",
      "[[ 0]\n",
      " [ 1]\n",
      " [ 2]\n",
      " [ 3]\n",
      " [ 4]\n",
      " [ 5]\n",
      " [ 6]\n",
      " [ 7]\n",
      " [ 8]\n",
      " [ 9]\n",
      " [10]\n",
      " [11]] (12, 1)\n"
     ]
    }
   ],
   "source": [
    "# -1 을 사용한 reshape : 요소수를 자동으로 계산\n",
    "m1 = np.arange(12)\n",
    "print(m1,m1.shape)\n",
    "\n",
    "m2 = m1.reshape(-1,6)  # 행의 요소수를 자동으로 계산, 2\n",
    "print(m2,m2.shape)     # (2,6)\n",
    "\n",
    "m2 = m1.reshape(4,-1)  # 열의 요소수를 자동으로 계산, 3\n",
    "print(m2,m2.shape)     # (4,3)\n",
    "\n",
    "m2 = m1.reshape(-1,1)  # 행의 요소수를 자동으로 계산, 12\n",
    "print(m2,m2.shape)     # (12,1)"
   ]
  },
  {
   "cell_type": "markdown",
   "metadata": {},
   "source": [
    "### 배열의 인덱싱과 슬라이싱"
   ]
  },
  {
   "cell_type": "code",
   "execution_count": 11,
   "metadata": {},
   "outputs": [
    {
     "name": "stdout",
     "output_type": "stream",
     "text": [
      "[ 0  1  2  3  4  5  6  7  8  9 10 11] (12,)\n",
      "0 1 2 3 11 11\n",
      "[2 3 4 5 6 7] [ 0  1  2  3  4  5  6  7  8  9 10 11] [ 0  1  2  3  4  5  6  7  8  9 10]\n",
      "[ 0  2  4  6  8 10] [11 10  9  8  7  6  5  4  3  2  1  0]\n",
      "[10  1  2  3  4  5  6  7  8  9 10 11]\n"
     ]
    }
   ],
   "source": [
    "# 1차원 배열의 인덱싱과 슬라이싱 : list 와 동일한 방법\n",
    "d = np.arange(12)\n",
    "print(d,d.shape)\n",
    "print(d[0],d[1],d[2],d[3],d[11],d[-1])\n",
    "print(d[2:8],d[:],d[:-1])\n",
    "print(d[::2],d[::-1])\n",
    "\n",
    "d[0] = 10  # list 처럼 요소 변경이 가능\n",
    "print(d)"
   ]
  },
  {
   "cell_type": "code",
   "execution_count": 29,
   "metadata": {},
   "outputs": [
    {
     "name": "stdout",
     "output_type": "stream",
     "text": [
      "[[ 0  1  2  3]\n",
      " [ 4  5  6  7]\n",
      " [ 8  9 10 11]] (3, 4)\n",
      "0\n",
      "0\n",
      "9\n",
      "[0 1 2 3]\n",
      "[0 1 2 3]\n",
      "[[ 0  1  2]\n",
      " [ 4  5  6]\n",
      " [ 8  9 10]]\n",
      "[[ 0  2]\n",
      " [ 8 10]]\n",
      "[[20 20 20 20]\n",
      " [ 4  5  6  7]\n",
      " [ 8  9 10 11]]\n",
      "[[30 30]\n",
      " [30 30]]\n",
      "[[30 20 30 20]\n",
      " [ 4  5  6  7]\n",
      " [30  9 30 11]]\n",
      "[[-1 -1 -1 -1]\n",
      " [-1 -1 -1 -1]\n",
      " [-1 -1 -1 -1]]\n"
     ]
    }
   ],
   "source": [
    "# 2차원 배열의 인덱싱과 슬라이싱\n",
    "# data[행,열]\n",
    "d = np.arange(12).reshape(3,4)\n",
    "print(d,d.shape)\n",
    "\n",
    "# 인덱싱\n",
    "print(d[0][0])  # 0\n",
    "print(d[0,0])   # 0\n",
    "print(d[2,1])   # 9\n",
    "\n",
    "# 슬라이싱\n",
    "print(d[0])     # [0 1 2 3]\n",
    "print(d[0,:])   # [0 1 2 3]\n",
    "\n",
    "print(d[:,:-1])   # (3,3), 마지막 열을 제외\n",
    "print(d[::2,::2]) # (2,2)\n",
    "\n",
    "d[0] = 20        # 0번 행의 모든 요소를 20으로 변경 ,d[0,0] = 20, d[0,1] = 20, d[0,2] = 20, d[0,2] = 20\n",
    "print(d)\n",
    "\n",
    "d[::2,::2] = 30  # 슬라이싱 된 요소 전체를 한번에 변경할 수 있다\n",
    "print(d[::2,::2] )\n",
    "print(d)\n",
    "\n",
    "d[:,:] = -1      # 전체 요소를 한번에 변경할 수 있다\n",
    "print(d)   "
   ]
  },
  {
   "cell_type": "code",
   "execution_count": 52,
   "metadata": {},
   "outputs": [
    {
     "name": "stdout",
     "output_type": "stream",
     "text": [
      "[[[ 0  1  2]\n",
      "  [ 3  4  5]]\n",
      "\n",
      " [[ 6  7  8]\n",
      "  [ 9 10 11]]] (2, 2, 3)\n",
      "0\n",
      "0\n",
      "5\n",
      "[[[0 1]]\n",
      "\n",
      " [[6 7]]]\n",
      "[[[ 4  5]]\n",
      "\n",
      " [[10 11]]]\n",
      "[[0 3]\n",
      " [6 9]]\n",
      "[ 5 11]\n"
     ]
    }
   ],
   "source": [
    "# 3차원 배열의 인덱싱과 슬라이싱\n",
    "# data[면,행,열]\n",
    "d = np.arange(12).reshape(2,2,3)\n",
    "print(d,d.shape)\n",
    "\n",
    "# 인덱싱\n",
    "print(d[0][0][0])  # old style\n",
    "print(d[0,0,0])    # 0\n",
    "print(d[0,1,2])    # 5\n",
    "\n",
    "# 슬라이싱\n",
    "print(d[:,:-1,:-1]) # (2,1,2)\n",
    "print(d[:,1:,1:])   # (2,1,2)\n",
    "print(d[:,:,-1])    # (2,2)\n",
    "print(d[:,-1,-1])   # (2,)"
   ]
  },
  {
   "cell_type": "markdown",
   "metadata": {},
   "source": [
    "### 불린 인덱싱: 조건식을 사용한 인덱싱, 조건 검색 필터를 사용한 추출(매우 중요)"
   ]
  },
  {
   "cell_type": "code",
   "execution_count": 77,
   "metadata": {},
   "outputs": [
    {
     "name": "stdout",
     "output_type": "stream",
     "text": [
      "[1 2 3 4 5 6]\n",
      "[False False  True  True  True  True]\n",
      "[3 4 5 6]\n",
      "[3 4 5 6]\n",
      "[ True False  True False  True False]\n",
      "[1 3 5]\n",
      "[1 2 4 5 6]\n",
      "[3 4 5]\n",
      "[2 4 6]\n",
      "[4 5 6]\n"
     ]
    }
   ],
   "source": [
    "a = np.array([1,2,3,4,5,6])\n",
    "print(a)\n",
    "\n",
    "print(a > 2)\n",
    "print(a[a > 2])   # 배열 a에서 2보다 큰 요소들을 추출\n",
    "print(a[[False, False,  True,  True,  True, True]])\n",
    "\n",
    "boolean_index = np.array([True,False,True,False,True,False])\n",
    "print(boolean_index)\n",
    "print(a[boolean_index])\n",
    "\n",
    "print(a[a != 3])\n",
    "print(a[(a > 2) & (a < 6)])\n",
    "print(a[(a % 2) == 0])\n",
    "print(a[ a < a.mean()])  # 배열 a에서 평균보다 작은 값만 추출"
   ]
  },
  {
   "cell_type": "markdown",
   "metadata": {},
   "source": [
    "#### fancy 인덱싱 : 리스트나 배열로 임의의 집합을 지정하여 인덱싱,(멋대로 내키는 대로 인덱싱)"
   ]
  },
  {
   "cell_type": "code",
   "execution_count": 83,
   "metadata": {},
   "outputs": [
    {
     "name": "stdout",
     "output_type": "stream",
     "text": [
      "[1 2 3 4 5 6] (6,)\n",
      "[2 4 6 3 4 2]\n",
      "[1 6 4 5]\n"
     ]
    }
   ],
   "source": [
    "# 1 차원 배열의 fancy 인덱싱\n",
    "a = np.arange(1,7)\n",
    "print(a,a.shape)\n",
    "\n",
    "print(a[[1,3,5,2,3,1]])\n",
    "print(a[[0,-1,-3,-2]])"
   ]
  },
  {
   "cell_type": "code",
   "execution_count": 87,
   "metadata": {},
   "outputs": [
    {
     "name": "stdout",
     "output_type": "stream",
     "text": [
      "[[10 20 30]\n",
      " [40 50 60]\n",
      " [70 80 90]] (3, 3)\n",
      "[10 80]\n",
      "[[10 20]\n",
      " [70 80]]\n",
      "10 80\n"
     ]
    }
   ],
   "source": [
    "# 2차원 배열의 fancy 인덱싱\n",
    "a = np.arange(10,100,10).reshape(3,3)\n",
    "print(a,a.shape)\n",
    "\n",
    "print(a[[0,2],[0,1]])  # 행과 열이 서로 match :  [a[0,0],a[2,1]] --> [10,80]\n",
    "print(a[[0,2],:2])\n",
    "\n",
    "print(a[0,0],a[2,1])"
   ]
  },
  {
   "cell_type": "code",
   "execution_count": 90,
   "metadata": {},
   "outputs": [
    {
     "name": "stdout",
     "output_type": "stream",
     "text": [
      "[[ 0  1  2  3]\n",
      " [ 4  5  6  7]\n",
      " [ 8  9 10 11]]\n",
      "[ 0  1  2  3  4  5  6  7  8  9 10 11]\n"
     ]
    }
   ],
   "source": [
    "# 배열의 형상 다루기 : reshape(), 편평화(flatten()), 전치(transpose())\n",
    "# flatten() : 다차원 배열을 1 차원으로 만든다\n",
    "d = np.arange(12).reshape(3,4)\n",
    "print(d)\n",
    "\n",
    "f = d.flatten()   # (3,4) --> (12,)   , d.reshape(12,)\n",
    "print(f)\n",
    "\n",
    "\n",
    "# transpose() : 전치 행렬, 행과 열을 서로 맞바꾸는 함수"
   ]
  },
  {
   "cell_type": "code",
   "execution_count": null,
   "metadata": {},
   "outputs": [],
   "source": []
  }
 ],
 "metadata": {
  "kernelspec": {
   "display_name": "Python 3",
   "language": "python",
   "name": "python3"
  },
  "language_info": {
   "codemirror_mode": {
    "name": "ipython",
    "version": 3
   },
   "file_extension": ".py",
   "mimetype": "text/x-python",
   "name": "python",
   "nbconvert_exporter": "python",
   "pygments_lexer": "ipython3",
   "version": "3.7.7"
  }
 },
 "nbformat": 4,
 "nbformat_minor": 4
}
