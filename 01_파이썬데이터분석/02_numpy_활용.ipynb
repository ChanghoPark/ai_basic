{
 "cells": [
  {
   "cell_type": "markdown",
   "metadata": {},
   "source": [
    "### 배열의 연산: 행렬(matrix)의 연산, 선형대수(Linear Algebra)"
   ]
  },
  {
   "cell_type": "markdown",
   "metadata": {},
   "source": [
    "### [1] 배열과 상수간의 연산 :  배열 <연산자> 상수, 상수 <연산자> 배열\n",
    "#### 하나의 스칼라와 배열의 연산, 브로드 캐스팅에 해당"
   ]
  },
  {
   "cell_type": "code",
   "execution_count": 1,
   "metadata": {},
   "outputs": [],
   "source": [
    "import numpy as np"
   ]
  },
  {
   "cell_type": "code",
   "execution_count": 2,
   "metadata": {},
   "outputs": [
    {
     "name": "stdout",
     "output_type": "stream",
     "text": [
      "[[ 0  1  2  3]\n",
      " [ 4  5  6  7]\n",
      " [ 8  9 10 11]\n",
      " [12 13 14 15]] (4, 4)\n",
      "[[10 11 12 13]\n",
      " [14 15 16 17]\n",
      " [18 19 20 21]\n",
      " [22 23 24 25]]\n",
      "[[-10  -9  -8  -7]\n",
      " [ -6  -5  -4  -3]\n",
      " [ -2  -1   0   1]\n",
      " [  2   3   4   5]]\n",
      "[[  0  10  20  30]\n",
      " [ 40  50  60  70]\n",
      " [ 80  90 100 110]\n",
      " [120 130 140 150]]\n",
      "[[0.  0.1 0.2 0.3]\n",
      " [0.4 0.5 0.6 0.7]\n",
      " [0.8 0.9 1.  1.1]\n",
      " [1.2 1.3 1.4 1.5]]\n",
      "[[10 11 12 13]\n",
      " [14 15 16 17]\n",
      " [18 19 20 21]\n",
      " [22 23 24 25]]\n"
     ]
    }
   ],
   "source": [
    "A = np.arange(16).reshape(4,4)\n",
    "print(A,A.shape)\n",
    "\n",
    "print(A + 10)\n",
    "print(A - 10)\n",
    "print(A * 10)\n",
    "print(A / 10)\n",
    "\n",
    "print(10 + A)"
   ]
  },
  {
   "cell_type": "markdown",
   "metadata": {},
   "source": [
    "### [2] 배열의 요소간의 연산 : element-wise 연산"
   ]
  },
  {
   "cell_type": "code",
   "execution_count": 3,
   "metadata": {},
   "outputs": [
    {
     "name": "stdout",
     "output_type": "stream",
     "text": [
      "[[0 1 2]\n",
      " [3 4 5]\n",
      " [6 7 8]]\n",
      "[[-1  0  1]\n",
      " [ 2  3  4]\n",
      " [ 5  6  7]]\n",
      "[[-1  1  3]\n",
      " [ 5  7  9]\n",
      " [11 13 15]]\n",
      "[[1 1 1]\n",
      " [1 1 1]\n",
      " [1 1 1]]\n",
      "[[ 0  0  2]\n",
      " [ 6 12 20]\n",
      " [30 42 56]]\n",
      "[[-0.                 inf  2.        ]\n",
      " [ 1.5         1.33333333  1.25      ]\n",
      " [ 1.2         1.16666667  1.14285714]]\n"
     ]
    },
    {
     "name": "stderr",
     "output_type": "stream",
     "text": [
      "C:\\ProgramData\\Anaconda3\\envs\\tf20\\lib\\site-packages\\ipykernel_launcher.py:9: RuntimeWarning: divide by zero encountered in true_divide\n",
      "  if __name__ == '__main__':\n"
     ]
    }
   ],
   "source": [
    "# shape 이 같은 경우\n",
    "A = np.arange(9).reshape(3,3)\n",
    "B = np.arange(9).reshape(3,3) - 1\n",
    "print(A)\n",
    "print(B)\n",
    "\n",
    "print(A + B)\n",
    "print(A - B)\n",
    "print(A * B)\n",
    "print(A / B)"
   ]
  },
  {
   "cell_type": "markdown",
   "metadata": {},
   "source": [
    "### [3] 브로드 캐스팅 : 차원의 크기가 서로 다른 배열에서 산술연산이 가능"
   ]
  },
  {
   "cell_type": "code",
   "execution_count": 4,
   "metadata": {},
   "outputs": [
    {
     "name": "stdout",
     "output_type": "stream",
     "text": [
      "[[0 1]\n",
      " [2 3]\n",
      " [4 5]]\n",
      "[[1 2]]\n",
      "------------------------------\n",
      "[[1 3]\n",
      " [3 5]\n",
      " [5 7]]\n",
      "[[-1 -1]\n",
      " [ 1  1]\n",
      " [ 3  3]]\n",
      "[[ 0  2]\n",
      " [ 2  6]\n",
      " [ 4 10]]\n",
      "[[0.  0.5]\n",
      " [2.  1.5]\n",
      " [4.  2.5]]\n"
     ]
    }
   ],
   "source": [
    "A = np.arange(6).reshape(3,2) \n",
    "B = np.arange(2).reshape(1,2) + 1\n",
    "print(A)  # (3,2)\n",
    "print(B)  # (1,2)\n",
    "\n",
    "print('-'*30)\n",
    "\n",
    "print(A + B)\n",
    "print(A - B)\n",
    "print(A * B)\n",
    "print(A / B)"
   ]
  },
  {
   "cell_type": "code",
   "execution_count": 5,
   "metadata": {},
   "outputs": [
    {
     "name": "stdout",
     "output_type": "stream",
     "text": [
      "[[1. 1. 1.]\n",
      " [1. 1. 1.]]\n",
      "[0 1 2]\n",
      "[[1. 2. 3.]\n",
      " [1. 2. 3.]]\n"
     ]
    }
   ],
   "source": [
    "# 브로드 캐스팅 규칙 : 차원과 shape 이 자동 조정\n",
    "# 규칙 1 : 두 배열의 차원 수가 다르면 더 작은 수의 차원을 가진 배열의 shape의\n",
    "#          앞쪽(왼쪽)을 1로 채운다\n",
    "# 규칙 2 : 차원이 같은 두 배열의 shape 이 1인 배열을 다른 배열의 shape과 \n",
    "#          일치하도록 늘인다\n",
    "# 규칙 3 : 임의의 차원에서 크기가 일치하지 않고 1도 아니라면 오류가 발생\n",
    "A = np.ones((2,3))  # (2,3)\n",
    "B = np.arange(3)    # (3,)\n",
    "print(A)\n",
    "print(B)\n",
    "\n",
    "# 규칙 1 적용 : B.shape ==> (1,3)    [[0 1 2]]\n",
    "# 규칙 2 적용 : B.shape ==> (2,3)    [[0 1 2]\n",
    "#                                    [0 1 2]]\n",
    "print(A + B)"
   ]
  },
  {
   "cell_type": "code",
   "execution_count": 6,
   "metadata": {},
   "outputs": [
    {
     "name": "stdout",
     "output_type": "stream",
     "text": [
      "[[1.]\n",
      " [1.]\n",
      " [1.]]\n",
      "[0 1 2]\n",
      "[[1. 2. 3.]\n",
      " [1. 2. 3.]\n",
      " [1. 2. 3.]]\n"
     ]
    }
   ],
   "source": [
    "A = np.ones((3,1))  # (3,1)\n",
    "B = np.arange(3)    # (3,)\n",
    "print(A)\n",
    "print(B)\n",
    "# 규칙 1 적용 : B.shape b ==> (1,3)    [[0 1 2]]\n",
    "# 규칙 2 적용 : B.shape b ==> (3,3)    [[0 1 2]\n",
    "#                                       [0 1 2]\n",
    "#                                       [0 1 2]]\n",
    "# 규칙 2 적용 : A.shape b ==> (3,3)    [[1 1 1]\n",
    "#                                       [1 1 1]\n",
    "#                                       [1 1 1]]  \n",
    "print(A + B)   # (3,3)"
   ]
  },
  {
   "cell_type": "code",
   "execution_count": 7,
   "metadata": {},
   "outputs": [
    {
     "name": "stdout",
     "output_type": "stream",
     "text": [
      "[[1. 1.]\n",
      " [1. 1.]\n",
      " [1. 1.]]\n",
      "[0 1 2]\n"
     ]
    }
   ],
   "source": [
    "A = np.ones((3,2))  # (3,2)\n",
    "B = np.arange(3)    # (3,)\n",
    "print(A)\n",
    "print(B)\n",
    "\n",
    "\n",
    "# 규칙 1 적용 : B.shape b ==> (1,3)    [[0 1 2]]\n",
    "# 규칙 2 적용 : B.shape b ==> (3,3)    [[0 1 2]\n",
    "#                                       [0 1 2]\n",
    "#                                       [0 1 2]]\n",
    "# 규칙 3 에 해당하므로 오류 발생\n",
    "# print(A + B)  # ValueError"
   ]
  },
  {
   "cell_type": "code",
   "execution_count": 9,
   "metadata": {},
   "outputs": [],
   "source": [
    "# 끝쪽 차원부터 비교하면서 앞쪽으로 진행한다\n",
    "# 두 배열의 각 차원에서 shape 이 같거나 shape이 1인경우 브로드캐스팅 가능\n",
    "# A  =  (2, 3)\n",
    "# B  =     (3,)\n",
    "# ----------------\n",
    "# 결과: (2, 3)\n",
    "\n",
    "# A  =  (3, 1)\n",
    "# B  =     (3,)\n",
    "# ----------------\n",
    "# 결과: (3, 3)\n",
    "\n",
    "# A  =  (3, 2)\n",
    "# B  =     (3,)\n",
    "# ----------------\n",
    "# 결과: (3, x)  ==> 오류\n",
    "    \n",
    "# A  =  (15, 3, 5)\n",
    "# B  =      (3, 1)\n",
    "# ----------------\n",
    "# 결과: (15, 3, 5)\n",
    "\n",
    "# A  =  (8, 1, 6, 1)\n",
    "# B  =     (7, 1, 5)\n",
    "# --------------------\n",
    "# 결과: (8 ,7, 6 ,5)\n",
    "    \n",
    "# A  =  (8, 4, 3)\n",
    "# B  =     (2, 1)\n",
    "# ----------------\n",
    "# 결과: (8, x, 3) ==> 오류   \n",
    "    "
   ]
  },
  {
   "cell_type": "markdown",
   "metadata": {},
   "source": [
    "### [4] dot product: 내적 곱셈 ,행렬(matrix) 곱셈"
   ]
  },
  {
   "cell_type": "code",
   "execution_count": 20,
   "metadata": {},
   "outputs": [
    {
     "name": "stdout",
     "output_type": "stream",
     "text": [
      "[1 2 3] (3,)\n",
      "[4 5 6] (3,)\n",
      "[ 4 10 18]\n",
      "32\n",
      "32\n"
     ]
    }
   ],
   "source": [
    "# 1차원 배열(벡터)의 내적\n",
    "A = np.array([1,2,3])\n",
    "B = np.array([4,5,6])\n",
    "print(A,A.shape)\n",
    "print(B,B.shape)\n",
    "\n",
    "print(A*B)   # element-wise 곱셈\n",
    "\n",
    "dot_product = np.dot(A,B)  # 내적 곱셈\n",
    "print(dot_product)\n",
    "print(A[0]*B[0] + A[1]*B[1] + A[2]*B[2])"
   ]
  },
  {
   "cell_type": "code",
   "execution_count": 28,
   "metadata": {},
   "outputs": [
    {
     "name": "stdout",
     "output_type": "stream",
     "text": [
      "[[1 2 3]\n",
      " [4 5 6]]\n",
      "[[ 7  8]\n",
      " [ 9 10]\n",
      " [11 12]]\n",
      "[[ 58  64]\n",
      " [139 154]]\n",
      "[[ 58  64]\n",
      " [139 154]]\n"
     ]
    }
   ],
   "source": [
    "# 2차원 배열(행렬,matrix)의 곱셈\n",
    "A = np.arange(1,7).reshape(2,3)\n",
    "B = np.arange(7,13).reshape(3,2)\n",
    "print(A)    # (2,3)\n",
    "print(B)    # (3,2)\n",
    "\n",
    "# print(A*B)  # ValueError\n",
    "\n",
    "dot_product = np.dot(A,B)  # 내적 곱셈\n",
    "print(dot_product)\n",
    "\n",
    "print(np.matmul(A,B))  # 동일한 결과\n",
    "# (2,3) * (3,2) = (2,2)\n",
    "# (m,n) * (n,l) = (m,l) # 행렬의 내적 곱셈시 shape 공식, 필수 암기 요망!!\n",
    "\n",
    "# (10,4) * (x,y) = (10,2) #  x = 4, y = 2를 구할 수 있어야한다"
   ]
  },
  {
   "cell_type": "code",
   "execution_count": 23,
   "metadata": {},
   "outputs": [
    {
     "name": "stdout",
     "output_type": "stream",
     "text": [
      "[[1 2 3]\n",
      " [4 5 6]]\n",
      "[[ 7  8]\n",
      " [ 9 10]\n",
      " [11 12]]\n",
      "<class 'numpy.matrix'>\n",
      "[[ 58  64]\n",
      " [139 154]]\n"
     ]
    }
   ],
   "source": [
    "A = np.mat(\"1 2 3;4 5 6\")\n",
    "B = np.mat(\"7 8;9 10;11 12\")\n",
    "print(A)\n",
    "print(B)\n",
    "print(type(A))\n",
    "print(A*B)  # 내적 곱셈"
   ]
  },
  {
   "cell_type": "code",
   "execution_count": 26,
   "metadata": {},
   "outputs": [
    {
     "name": "stdout",
     "output_type": "stream",
     "text": [
      "A: [[ 1 -2  1]\n",
      " [ 0  2 -8]\n",
      " [-4  5  9]]\n",
      "[ 0  8 -9]\n"
     ]
    }
   ],
   "source": [
    "## 선형 방정식 풀이 : 선형시스템을 해석\n",
    "A = np.mat(\"1 -2 1;0 2 -8;-4 5 9\")\n",
    "print(\"A:\",A)\n",
    "b = np.array([0,8,-9])\n",
    "print(b)\n",
    "\n",
    "# 연립방정식\n",
    "# 1*x0 - 2*x1 + 1*x2 = 0    # 29 - 32 + 3 = 0\n",
    "# 0*x0 + 2*x1 - 8*x2 = 8\n",
    "# -4*x0 + 5*x1 + 9*x2 = -9"
   ]
  },
  {
   "cell_type": "code",
   "execution_count": 27,
   "metadata": {},
   "outputs": [
    {
     "name": "stdout",
     "output_type": "stream",
     "text": [
      "Solution: [29. 16.  3.]\n",
      "Check\n",
      " [[ 0.  8. -9.]]\n"
     ]
    }
   ],
   "source": [
    "x = np.linalg.solve(A,b)\n",
    "print('Solution:',x)\n",
    "print('Check\\n',np.dot(A,x))\n",
    "\n",
    "# A dot x ==> b\n",
    "# [[ 1 -2  1]         [[29          [[0\n",
    "#  [ 0  2 -8]     dot   16      ==>   8\n",
    "#  [-4  5  9]]          3]]           9]]\n",
    "#  (3,3) * (3,1) ==> (3,1) "
   ]
  },
  {
   "cell_type": "code",
   "execution_count": 37,
   "metadata": {},
   "outputs": [
    {
     "name": "stdout",
     "output_type": "stream",
     "text": [
      "[0. 0. 0. 0. 0. 0. 0. 0. 0. 0.]\n",
      "[[0. 0. 0. 0.]\n",
      " [0. 0. 0. 0.]\n",
      " [0. 0. 0. 0.]]\n",
      "[1. 1. 1. 1. 1. 1. 1. 1. 1. 1.]\n",
      "[[1. 1. 1. 1.]\n",
      " [1. 1. 1. 1.]\n",
      " [1. 1. 1. 1.]]\n",
      "[[ 1.42200269e-311  9.58487353e-322  0.00000000e+000]\n",
      " [ 0.00000000e+000  1.42173718e-311  5.02034658e+175]\n",
      " [ 1.27092332e-075  3.06059609e-057  2.94879478e+179]\n",
      " [ 7.31556606e+169  1.47763641e+248  1.16096346e-028]\n",
      " [ 7.69165785e+218  1.35617292e+248  3.10139001e+179]\n",
      " [ 1.17687803e-047  2.08934532e-076  6.12674575e-062]\n",
      " [ 4.30348039e-096  6.32299154e+233  6.48224638e+170]\n",
      " [ 5.22411352e+257  5.74020278e+180  8.37174974e-144]\n",
      " [ 1.41529402e+161  6.00736899e-067  4.52576983e+097]\n",
      " [ 5.06266576e-038  3.92417332e+126 -2.40197436e+173]]\n"
     ]
    }
   ],
   "source": [
    "# 기타 연산자 : zeros(), ones()\n",
    "a = np.zeros(10)   # 초기 값을 0으로 채워서 배열을 생성\n",
    "print(a)\n",
    "\n",
    "a = np.zeros((3,4))\n",
    "print(a)\n",
    "\n",
    "a = np.ones(10)\n",
    "print(a)\n",
    "\n",
    "a = np.ones((3,4))  # 초기 값을 1으로 채워서 배열을 생성\n",
    "print(a)\n",
    "\n",
    "e = np.empty((10,3)) # 초기 값을 설정하지 않고 배열을 생성, 빠르게 생성\n",
    "print(e)"
   ]
  },
  {
   "cell_type": "code",
   "execution_count": 48,
   "metadata": {},
   "outputs": [
    {
     "name": "stdout",
     "output_type": "stream",
     "text": [
      "[[0.22199317 0.87073231 0.20671916 0.91861091]\n",
      " [0.48841119 0.61174386 0.76590786 0.51841799]\n",
      " [0.2968005  0.18772123 0.08074127 0.7384403 ]]\n",
      "[[1 4 6 2]\n",
      " [9 9 9 9]\n",
      " [1 2 7 0]]\n",
      "[[ 0.07453116  0.55653535  1.97258009 -0.24106628]\n",
      " [ 0.36337589  1.07448417 -1.99994678  0.95853877]\n",
      " [ 0.94220227  0.5689886   0.92890695  1.22638799]]\n"
     ]
    }
   ],
   "source": [
    "# numpy 난수 발생\n",
    "# rand() : 실수\n",
    "# randint() : 정수\n",
    "# randn() : 실수, 정규 분포(standard normal distribution)\n",
    "\n",
    "np.random.seed(5)  # 난수의 씨앗\n",
    "print(np.random.rand(3,4)) # 값이 0 ~ 1 사이, shape (3,4)\n",
    "print(np.random.randint(10,size=(3,4))) # 값이 0 ~ 10 사이, shape (3,4)\n",
    "print(np.random.randn(3,4)) # 정규 분포, 값이 0 ~ 1 사이, shape (3,4)"
   ]
  },
  {
   "cell_type": "code",
   "execution_count": null,
   "metadata": {},
   "outputs": [],
   "source": []
  }
 ],
 "metadata": {
  "kernelspec": {
   "display_name": "Python 3",
   "language": "python",
   "name": "python3"
  },
  "language_info": {
   "codemirror_mode": {
    "name": "ipython",
    "version": 3
   },
   "file_extension": ".py",
   "mimetype": "text/x-python",
   "name": "python",
   "nbconvert_exporter": "python",
   "pygments_lexer": "ipython3",
   "version": "3.7.7"
  }
 },
 "nbformat": 4,
 "nbformat_minor": 4
}
