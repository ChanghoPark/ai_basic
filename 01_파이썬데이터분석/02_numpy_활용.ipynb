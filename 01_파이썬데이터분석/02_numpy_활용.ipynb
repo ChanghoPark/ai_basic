{
 "cells": [
  {
   "cell_type": "markdown",
   "metadata": {},
   "source": [
    "### 배열의 연산: 행렬(matrix)의 연산, 선형대수(Linear Algebra)"
   ]
  },
  {
   "cell_type": "markdown",
   "metadata": {},
   "source": [
    "### [1] 배열과 상수간의 연산 :  배열 <연산자> 상수, 상수 <연산자> 배열\n",
    "#### 하나의 스칼라와 배열의 연산, 브로드 캐스팅에 해당"
   ]
  },
  {
   "cell_type": "code",
   "execution_count": 1,
   "metadata": {},
   "outputs": [],
   "source": [
    "import numpy as np"
   ]
  },
  {
   "cell_type": "code",
   "execution_count": 5,
   "metadata": {},
   "outputs": [
    {
     "name": "stdout",
     "output_type": "stream",
     "text": [
      "[[ 0  1  2  3]\n",
      " [ 4  5  6  7]\n",
      " [ 8  9 10 11]\n",
      " [12 13 14 15]] (4, 4)\n",
      "[[10 11 12 13]\n",
      " [14 15 16 17]\n",
      " [18 19 20 21]\n",
      " [22 23 24 25]]\n",
      "[[-10  -9  -8  -7]\n",
      " [ -6  -5  -4  -3]\n",
      " [ -2  -1   0   1]\n",
      " [  2   3   4   5]]\n",
      "[[  0  10  20  30]\n",
      " [ 40  50  60  70]\n",
      " [ 80  90 100 110]\n",
      " [120 130 140 150]]\n",
      "[[0.  0.1 0.2 0.3]\n",
      " [0.4 0.5 0.6 0.7]\n",
      " [0.8 0.9 1.  1.1]\n",
      " [1.2 1.3 1.4 1.5]]\n",
      "[[10 11 12 13]\n",
      " [14 15 16 17]\n",
      " [18 19 20 21]\n",
      " [22 23 24 25]]\n"
     ]
    }
   ],
   "source": [
    "A = np.arange(16).reshape(4,4)\n",
    "print(A,A.shape)\n",
    "\n",
    "print(A + 10)\n",
    "print(A - 10)\n",
    "print(A * 10)\n",
    "print(A / 10)\n",
    "\n",
    "print(10 + A)"
   ]
  },
  {
   "cell_type": "markdown",
   "metadata": {},
   "source": [
    "### [2] 배열의 요소간의 연산 : element-wise 연산"
   ]
  },
  {
   "cell_type": "code",
   "execution_count": 11,
   "metadata": {},
   "outputs": [
    {
     "name": "stdout",
     "output_type": "stream",
     "text": [
      "[[0 1 2]\n",
      " [3 4 5]\n",
      " [6 7 8]]\n",
      "[[-1  0  1]\n",
      " [ 2  3  4]\n",
      " [ 5  6  7]]\n",
      "[[-1  1  3]\n",
      " [ 5  7  9]\n",
      " [11 13 15]]\n",
      "[[1 1 1]\n",
      " [1 1 1]\n",
      " [1 1 1]]\n",
      "[[ 0  0  2]\n",
      " [ 6 12 20]\n",
      " [30 42 56]]\n",
      "[[-0.                 inf  2.        ]\n",
      " [ 1.5         1.33333333  1.25      ]\n",
      " [ 1.2         1.16666667  1.14285714]]\n"
     ]
    },
    {
     "name": "stderr",
     "output_type": "stream",
     "text": [
      "C:\\ProgramData\\Anaconda3\\envs\\tf20\\lib\\site-packages\\ipykernel_launcher.py:9: RuntimeWarning: divide by zero encountered in true_divide\n",
      "  if __name__ == '__main__':\n"
     ]
    }
   ],
   "source": [
    "A = np.arange(9).reshape(3,3)\n",
    "B = np.arange(9).reshape(3,3) - 1\n",
    "print(A)\n",
    "print(B)\n",
    "\n",
    "print(A + B)\n",
    "print(A - B)\n",
    "print(A * B)\n",
    "print(A / B)"
   ]
  },
  {
   "cell_type": "markdown",
   "metadata": {},
   "source": [
    "### [3] 브로드 캐스팅 : 차원의 크기가 서로 다른 배열에서 산술연산이 가능"
   ]
  },
  {
   "cell_type": "code",
   "execution_count": 17,
   "metadata": {},
   "outputs": [
    {
     "name": "stdout",
     "output_type": "stream",
     "text": [
      "[[0 1]\n",
      " [2 3]\n",
      " [4 5]]\n",
      "[[1 2]]\n",
      "------------------------------\n",
      "[[1 3]\n",
      " [3 5]\n",
      " [5 7]]\n",
      "[[-1 -1]\n",
      " [ 1  1]\n",
      " [ 3  3]]\n",
      "[[ 0  2]\n",
      " [ 2  6]\n",
      " [ 4 10]]\n",
      "[[0.  0.5]\n",
      " [2.  1.5]\n",
      " [4.  2.5]]\n"
     ]
    }
   ],
   "source": [
    "A = np.arange(6).reshape(3,2) \n",
    "B = np.arange(2).reshape(1,2) + 1\n",
    "print(A)  # (3,2)\n",
    "print(B)  # (1,2)\n",
    "\n",
    "print('-'*30)\n",
    "\n",
    "print(A + B)\n",
    "print(A - B)\n",
    "print(A * B)\n",
    "print(A / B)"
   ]
  },
  {
   "cell_type": "code",
   "execution_count": 23,
   "metadata": {},
   "outputs": [
    {
     "name": "stdout",
     "output_type": "stream",
     "text": [
      "[[1. 1. 1.]\n",
      " [1. 1. 1.]]\n",
      "[0 1 2]\n",
      "[[1. 2. 3.]\n",
      " [1. 2. 3.]]\n"
     ]
    }
   ],
   "source": [
    "# 브로드 캐스팅 규칙 : 차원과 shape 이 자동 조정\n",
    "# 규칙 1 : 두 배열의 차원 수가 다르면 더 작은 수의 차원을 가진 배열의 shape의\n",
    "#          앞쪽(왼쪽)을 1로 채운다\n",
    "# 규칙 2 : 차원이 같은 두 배열의 shape 이 1인 배열을 다른 배열의 shape과 \n",
    "#          일치하도록 늘인다\n",
    "# 규칙 3 : 임의의 차원에서 크기가 일치하지 않고 1도 아니라면 오류가 발생\n",
    "A = np.ones((2,3))  # (2,3)\n",
    "B = np.arange(3)    # (3,)\n",
    "print(A)\n",
    "print(B)\n",
    "\n",
    "# 규칙 1 적용 : B.shape ==> (1,3)    [[0 1 2]]\n",
    "# 규칙 2 적용 : B.shape ==> (2,3)    [[0 1 2]\n",
    "#                                    [0 1 2]]\n",
    "print(A + B)"
   ]
  },
  {
   "cell_type": "code",
   "execution_count": 26,
   "metadata": {},
   "outputs": [
    {
     "name": "stdout",
     "output_type": "stream",
     "text": [
      "[[1.]\n",
      " [1.]\n",
      " [1.]]\n",
      "[0 1 2]\n",
      "[[1. 2. 3.]\n",
      " [1. 2. 3.]\n",
      " [1. 2. 3.]]\n"
     ]
    }
   ],
   "source": [
    "A = np.ones((3,1))  # (3,1)\n",
    "B = np.arange(3)    # (3,)\n",
    "print(A)\n",
    "print(B)\n",
    "# 규칙 1 적용 : B.shape b ==> (1,3)    [[0 1 2]]\n",
    "# 규칙 2 적용 : B.shape b ==> (3,3)    [[0 1 2]\n",
    "#                                       [0 1 2]\n",
    "#                                       [0 1 2]]\n",
    "# 규칙 2 적용 : A.shape b ==> (3,3)    [[1 1 1]\n",
    "#                                       [1 1 1]\n",
    "#                                       [1 1 1]]  \n",
    "print(A + B)   # (3,3)"
   ]
  },
  {
   "cell_type": "code",
   "execution_count": 28,
   "metadata": {},
   "outputs": [
    {
     "name": "stdout",
     "output_type": "stream",
     "text": [
      "[[1. 1.]\n",
      " [1. 1.]\n",
      " [1. 1.]]\n",
      "[0 1 2]\n"
     ]
    }
   ],
   "source": [
    "A = np.ones((3,2))  # (3,2)\n",
    "B = np.arange(3)    # (3,)\n",
    "print(A)\n",
    "print(B)\n",
    "\n",
    "\n",
    "# 규칙 1 적용 : B.shape b ==> (1,3)    [[0 1 2]]\n",
    "# 규칙 2 적용 : B.shape b ==> (3,3)    [[0 1 2]\n",
    "#                                       [0 1 2]\n",
    "#                                       [0 1 2]]\n",
    "# 규칙 3 에 해당하므로 오류 발생\n",
    "# print(A + B)  # ValueError"
   ]
  },
  {
   "cell_type": "code",
   "execution_count": null,
   "metadata": {},
   "outputs": [],
   "source": [
    "# 끝쪽 차원부터 비교하면서 앞쪽으로 진행한다\n",
    "# 두 배열의 각 차원에서 shape 이 같거나 shape이 1인경우 브로드캐스팅 가능\n",
    "A  =  (2, 3)\n",
    "B  =     (3,)\n",
    "----------------\n",
    "결과: (2, 3)\n",
    "\n",
    "A  =  (3, 1)\n",
    "B  =     (3,)\n",
    "----------------\n",
    "결과: (3, 3)\n",
    "\n",
    "A  =  (3, 2)\n",
    "B  =     (3,)\n",
    "----------------\n",
    "결과: (3, x)  ==> 오류\n",
    "    \n",
    "A  =  (15, 3, 5)\n",
    "B  =      (3, 1)\n",
    "----------------\n",
    "결과: (15, 3, 5)\n",
    "\n",
    "A  =  (8, 1, 6, 1)\n",
    "B  =     (7, 1, 5)\n",
    "--------------------\n",
    "결과: (8 ,7, 6 ,5)\n",
    "    \n",
    "A  =  (8, 4, 3)\n",
    "B  =     (2, 1)\n",
    "----------------\n",
    "결과: (8, x, 3) ==> 오류   \n",
    "    "
   ]
  }
 ],
 "metadata": {
  "kernelspec": {
   "display_name": "Python 3",
   "language": "python",
   "name": "python3"
  },
  "language_info": {
   "codemirror_mode": {
    "name": "ipython",
    "version": 3
   },
   "file_extension": ".py",
   "mimetype": "text/x-python",
   "name": "python",
   "nbconvert_exporter": "python",
   "pygments_lexer": "ipython3",
   "version": "3.7.7"
  }
 },
 "nbformat": 4,
 "nbformat_minor": 4
}
